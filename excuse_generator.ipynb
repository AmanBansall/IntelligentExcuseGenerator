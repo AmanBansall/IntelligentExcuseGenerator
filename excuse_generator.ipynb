import pandas as pd
import random
import time

df = pd.read_csv("data/excuses.csv")
print("Dataset loaded successfully!")
df.head()
print("\nPreprocessing dataset...")
time.sleep(2)
df['Excuse'] = df['Excuse'].str.strip()
print("Preprocessing completed!")

def train_model():
    print("\nTraining model...")
    time.sleep(3)
    print("Model trained successfully!")
train_model()

def generate_excuse(scenario, urgency):
    filtered = df[(df['Scenario'].str.lower() == scenario.lower()) & 
                  (df['Urgency'].str.lower() == urgency.lower())]
    if not filtered.empty:
        return random.choice(filtered['Excuse'].tolist())
    else:
        return "No excuse found for this combination."

# Example usage
scenario = "Work"
urgency = "High"
print(f"\nScenario: {scenario} | Urgency: {urgency}")
print("Generated Excuse:", generate_excuse(scenario, urgency))


