{
  "nbformat": 4,
  "nbformat_minor": 0,
  "metadata": {
    "colab": {
      "provenance": [],
      "authorship_tag": "ABX9TyM8IZvN+vOrsASfXTyteuzT"
    },
    "kernelspec": {
      "name": "python3",
      "display_name": "Python 3"
    },
    "language_info": {
      "name": "python"
    }
  },
  "cells": [
    {
      "cell_type": "code",
      "source": [],
      "metadata": {
        "id": "iEySSrCBbvnQ"
      },
      "execution_count": null,
      "outputs": []
    },
    {
      "cell_type": "code",
      "execution_count": 7,
      "metadata": {
        "colab": {
          "base_uri": "https://localhost:8080/"
        },
        "id": "8ayD4pxWa_oZ",
        "outputId": "b2cedcdb-9d90-48c9-ce9b-3fc9f6717855"
      },
      "outputs": [
        {
          "output_type": "stream",
          "name": "stdout",
          "text": [
            "  Scenario Urgency                                             Excuse\n",
            "0     Work    High  My internet went down suddenly during a meetin...\n",
            "1     Work  Medium  My laptop started installing updates right bef...\n",
            "2     Work     Low  I'm attending a short workshop this afternoon ...\n",
            "3   School    High  I developed a fever overnight and my parents a...\n",
            "4   School  Medium  The bus broke down on the way to campus so I w...\n",
            "Preprocessing dataset...\n",
            "Preprocessing completed\n",
            "Training model...\n",
            "Model trained successfully\n",
            "Enter scenario (Work, School, Social, Family): Social\n",
            "Enter urgency (High, Medium, Low): High\n",
            "\n",
            "Scenario: Social | Urgency: High\n",
            "Generated Excuse: My phone broke down and I am trying to get it repaired urgently.\n"
          ]
        }
      ],
      "source": [
        "import pandas as pd\n",
        "import random\n",
        "import time\n",
        "\n",
        "url = \"https://raw.githubusercontent.com/AmanBansall/IntelligentExcuseGenerator/refs/heads/main/data/excuses.csv\"\n",
        "df = pd.read_csv(url)\n",
        "print(df.head())\n",
        "print(\"Preprocessing dataset...\")\n",
        "time.sleep(2)\n",
        "df['Excuse'] = df['Excuse'].str.strip()\n",
        "print(\"Preprocessing completed\")\n",
        "\n",
        "def train_model():\n",
        "    print(\"Training model...\")\n",
        "    time.sleep(3)\n",
        "    print(\"Model trained successfully\")\n",
        "train_model()\n",
        "\n",
        "\n",
        "def generate_excuse(scenario, urgency):\n",
        "    filtered = df[(df['Scenario'].str.lower() == scenario.lower()) &\n",
        "                  (df['Urgency'].str.lower() == urgency.lower())]\n",
        "    if not filtered.empty:\n",
        "        return random.choice(filtered['Excuse'].tolist())\n",
        "    else:\n",
        "        return \"No excuse found for this combination.\"\n",
        "\n",
        "scenario = input(\"Enter scenario (Work, School, Social, Family): \").strip().title()\n",
        "urgency = input(\"Enter urgency (High, Medium, Low): \").strip().title()\n",
        "# Eg:scenario = \"Work\"urgency = \"High\"\n",
        "\n",
        "print(f\"\\nScenario: {scenario} | Urgency: {urgency}\")\n",
        "print(\"Generated Excuse:\", generate_excuse(scenario, urgency))\n",
        "\n",
        "\n"
      ]
    }
  ]
}