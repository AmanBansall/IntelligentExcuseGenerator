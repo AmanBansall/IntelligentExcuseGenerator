{
  "nbformat": 4,
  "nbformat_minor": 0,
  "metadata": {
    "colab": {
      "provenance": [],
      "mount_file_id": "1KInE8jjGPIJk2cdy4UEcgd_4F77UK93T",
      "authorship_tag": "ABX9TyOpvJTkJuDtqrWmWiNhmA+c",
      "include_colab_link": true
    },
    "kernelspec": {
      "name": "python3",
      "display_name": "Python 3"
    },
    "language_info": {
      "name": "python"
    }
  },
  "cells": [
    {
      "cell_type": "markdown",
      "metadata": {
        "id": "view-in-github",
        "colab_type": "text"
      },
      "source": [
        "<a href=\"https://colab.research.google.com/github/AmanBansall/IntelligentExcuseGenerator/blob/main/updated_code.ipynb\" target=\"_parent\"><img src=\"https://colab.research.google.com/assets/colab-badge.svg\" alt=\"Open In Colab\"/></a>"
      ]
    },
    {
      "cell_type": "code",
      "execution_count": null,
      "metadata": {
        "id": "r5HPqv33anM-"
      },
      "outputs": [],
      "source": [
        "import pandas as pd\n",
        "from transformers import pipeline\n",
        "import os, getpass\n",
        "\n",
        "!jupyter nbconvert --ClearMetadataPreprocessor.enabled=True --to notebook --inplace your_notebook.ipynb\n",
        "\n",
        "!pip install transformers requests -q\n",
        "\n",
        "# Securely input Hugging Face token\n",
        "os.environ[\"HF_TOKEN\"] = getpass.getpass(\"Enter your Hugging Face token (hidden): \")\n",
        "\n",
        "# Load AI Model,here,deepseek\n",
        "generator = pipeline(\"text-generation\", model=\"deepseek-ai/DeepSeek-R1-Distill-Llama-8B\",\n",
        "                     token=os.environ[\"HF_TOKEN\"])\n",
        "\n",
        "# Load CSV file\n",
        "url = \"/content/drive/MyDrive/Colab Notebooks/excuses_updated.csv\"\n",
        "df = pd.read_csv(url)\n",
        "\n",
        "\n",
        "\n",
        "def generate_ai_excuse(scenario, urgency):\n",
        "   prompt = f\"Give me a creative excuse for {scenario} with {urgency} urgency.\"\n",
        "   ai_excuse = generator(prompt, max_length=20, num_return_sequences=1)[0][\"generated_text\"]\n",
        "   return ai_excuse.strip()\n",
        "\n",
        "# Function to get CSV excuses\n",
        "def get_csv_excuses(scenario, urgency):\n",
        "    filtered = df[(df['Scenario'] == scenario) & (df['Urgency'] == urgency)]\n",
        "    return filtered['Excuse'].tolist()\n",
        "\n",
        "\n",
        "# Function to add a new excuse\n",
        "def add_excuse(scenario, urgency, excuse, path=url):\n",
        "    local_df = pd.read_csv(path)\n",
        "    new_row = pd.DataFrame([[scenario, urgency, excuse]],\n",
        "                           columns=[\"Scenario\", \"Urgency\", \"Excuse\"])\n",
        "    local_df = pd.concat([local_df, new_row], ignore_index=True)\n",
        "    local_df.to_csv(path, index=False)\n",
        "    print(f\"Saved successfully! Total rows: {len(local_df)}\")\n",
        "\n",
        "# Interaction with user\n",
        "scenario = input(\"Enter scenario (Work, School, Social, Family): \").strip().title()\n",
        "urgency = input(\"Enter urgency (High, Medium, Low): \").strip().title()\n",
        "\n",
        "# AI Generated excuse\n",
        "print(\"\\n AI-generated excuse:\")\n",
        "ai_excuse = generate_ai_excuse(scenario, urgency)\n",
        "print(ai_excuse)\n",
        "\n",
        "# Ask if user likes it\n",
        "choice = input(\"\\nDo you like this excuse? (yes/no): \").strip().lower()\n",
        "if choice == \"no\":\n",
        "    csv_excuses = get_csv_excuses(scenario, urgency)\n",
        "    if csv_excuses:\n",
        "        print(\"\\n Excuses from CSV:\")\n",
        "        for i, excuse in enumerate(csv_excuses, 1):\n",
        "            print(f\"{i}. {excuse}\")\n",
        "    else:\n",
        "        print(\" No CSV excuses found for this combination.\")\n",
        "\n",
        "# Option to add new excuse\n",
        "choice2 = input(\"\\nDo you want to add a new excuse? (yes/no): \").strip().lower()\n",
        "if choice2 == \"yes\":\n",
        "    scenario_input = input(\"Enter the scenario (e.g., Work, School, Meeting): \").strip().title()\n",
        "    urgency_input = input(\"Enter the urgency level (e.g., High, Low, Medium): \").strip().title()\n",
        "    excuse_input = input(\"Enter your excuse: \").strip()\n",
        "    add_excuse(scenario_input, urgency_input, excuse_input)\n",
        "    print(\"\\nUpdated data preview:\")\n",
        "    print(pd.read_csv(url).tail())"
      ]
    }
  ]
}